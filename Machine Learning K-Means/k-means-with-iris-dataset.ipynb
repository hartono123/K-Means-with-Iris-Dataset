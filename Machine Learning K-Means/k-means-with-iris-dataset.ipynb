{
 "cells": [
  {
   "cell_type": "code",
   "execution_count": 1,
   "id": "053c1d25",
   "metadata": {
    "execution": {
     "iopub.execute_input": "2022-07-06T09:05:31.546416Z",
     "iopub.status.busy": "2022-07-06T09:05:31.545972Z",
     "iopub.status.idle": "2022-07-06T09:05:32.847212Z",
     "shell.execute_reply": "2022-07-06T09:05:32.846180Z"
    },
    "id": "k3HQS7eVpSko",
    "papermill": {
     "duration": 1.315918,
     "end_time": "2022-07-06T09:05:32.850065",
     "exception": false,
     "start_time": "2022-07-06T09:05:31.534147",
     "status": "completed"
    },
    "tags": []
   },
   "outputs": [],
   "source": [
    "import pandas as pd\n",
    "import numpy as np\n",
    "import matplotlib.pyplot as plt\n",
    "import seaborn as sns\n",
    "\n",
    "%matplotlib inline"
   ]
  },
  {
   "cell_type": "code",
   "execution_count": 2,
   "id": "23c99552",
   "metadata": {
    "execution": {
     "iopub.execute_input": "2022-07-06T09:05:32.868536Z",
     "iopub.status.busy": "2022-07-06T09:05:32.867158Z",
     "iopub.status.idle": "2022-07-06T09:05:32.889831Z",
     "shell.execute_reply": "2022-07-06T09:05:32.888600Z"
    },
    "id": "LvJv6dtfpieE",
    "papermill": {
     "duration": 0.034677,
     "end_time": "2022-07-06T09:05:32.892762",
     "exception": false,
     "start_time": "2022-07-06T09:05:32.858085",
     "status": "completed"
    },
    "tags": []
   },
   "outputs": [],
   "source": [
    "df = pd.read_csv('../input/iris/Iris.csv')"
   ]
  },
  {
   "cell_type": "code",
   "execution_count": 3,
   "id": "ceaf18f2",
   "metadata": {
    "execution": {
     "iopub.execute_input": "2022-07-06T09:05:32.909755Z",
     "iopub.status.busy": "2022-07-06T09:05:32.909380Z",
     "iopub.status.idle": "2022-07-06T09:05:32.933313Z",
     "shell.execute_reply": "2022-07-06T09:05:32.932080Z"
    },
    "id": "H1CpAbRRpmuQ",
    "outputId": "10ad1e86-637b-4b62-eb14-6bcf3dcb8d6d",
    "papermill": {
     "duration": 0.035589,
     "end_time": "2022-07-06T09:05:32.935916",
     "exception": false,
     "start_time": "2022-07-06T09:05:32.900327",
     "status": "completed"
    },
    "tags": []
   },
   "outputs": [
    {
     "data": {
      "text/html": [
       "<div>\n",
       "<style scoped>\n",
       "    .dataframe tbody tr th:only-of-type {\n",
       "        vertical-align: middle;\n",
       "    }\n",
       "\n",
       "    .dataframe tbody tr th {\n",
       "        vertical-align: top;\n",
       "    }\n",
       "\n",
       "    .dataframe thead th {\n",
       "        text-align: right;\n",
       "    }\n",
       "</style>\n",
       "<table border=\"1\" class=\"dataframe\">\n",
       "  <thead>\n",
       "    <tr style=\"text-align: right;\">\n",
       "      <th></th>\n",
       "      <th>Id</th>\n",
       "      <th>SepalLengthCm</th>\n",
       "      <th>SepalWidthCm</th>\n",
       "      <th>PetalLengthCm</th>\n",
       "      <th>PetalWidthCm</th>\n",
       "      <th>Species</th>\n",
       "    </tr>\n",
       "  </thead>\n",
       "  <tbody>\n",
       "    <tr>\n",
       "      <th>0</th>\n",
       "      <td>1</td>\n",
       "      <td>5.1</td>\n",
       "      <td>3.5</td>\n",
       "      <td>1.4</td>\n",
       "      <td>0.2</td>\n",
       "      <td>Iris-setosa</td>\n",
       "    </tr>\n",
       "    <tr>\n",
       "      <th>1</th>\n",
       "      <td>2</td>\n",
       "      <td>4.9</td>\n",
       "      <td>3.0</td>\n",
       "      <td>1.4</td>\n",
       "      <td>0.2</td>\n",
       "      <td>Iris-setosa</td>\n",
       "    </tr>\n",
       "    <tr>\n",
       "      <th>2</th>\n",
       "      <td>3</td>\n",
       "      <td>4.7</td>\n",
       "      <td>3.2</td>\n",
       "      <td>1.3</td>\n",
       "      <td>0.2</td>\n",
       "      <td>Iris-setosa</td>\n",
       "    </tr>\n",
       "    <tr>\n",
       "      <th>3</th>\n",
       "      <td>4</td>\n",
       "      <td>4.6</td>\n",
       "      <td>3.1</td>\n",
       "      <td>1.5</td>\n",
       "      <td>0.2</td>\n",
       "      <td>Iris-setosa</td>\n",
       "    </tr>\n",
       "    <tr>\n",
       "      <th>4</th>\n",
       "      <td>5</td>\n",
       "      <td>5.0</td>\n",
       "      <td>3.6</td>\n",
       "      <td>1.4</td>\n",
       "      <td>0.2</td>\n",
       "      <td>Iris-setosa</td>\n",
       "    </tr>\n",
       "  </tbody>\n",
       "</table>\n",
       "</div>"
      ],
      "text/plain": [
       "   Id  SepalLengthCm  SepalWidthCm  PetalLengthCm  PetalWidthCm      Species\n",
       "0   1            5.1           3.5            1.4           0.2  Iris-setosa\n",
       "1   2            4.9           3.0            1.4           0.2  Iris-setosa\n",
       "2   3            4.7           3.2            1.3           0.2  Iris-setosa\n",
       "3   4            4.6           3.1            1.5           0.2  Iris-setosa\n",
       "4   5            5.0           3.6            1.4           0.2  Iris-setosa"
      ]
     },
     "execution_count": 3,
     "metadata": {},
     "output_type": "execute_result"
    }
   ],
   "source": [
    "df.head(5)"
   ]
  },
  {
   "cell_type": "code",
   "execution_count": 4,
   "id": "ddb7fbaf",
   "metadata": {
    "execution": {
     "iopub.execute_input": "2022-07-06T09:05:32.953662Z",
     "iopub.status.busy": "2022-07-06T09:05:32.953278Z",
     "iopub.status.idle": "2022-07-06T09:05:32.959930Z",
     "shell.execute_reply": "2022-07-06T09:05:32.958901Z"
    },
    "id": "jzO_kfSFpowR",
    "outputId": "43185bac-05e0-439a-db4f-0b73e0f6233f",
    "papermill": {
     "duration": 0.017995,
     "end_time": "2022-07-06T09:05:32.962073",
     "exception": false,
     "start_time": "2022-07-06T09:05:32.944078",
     "status": "completed"
    },
    "tags": []
   },
   "outputs": [
    {
     "data": {
      "text/plain": [
       "(150, 6)"
      ]
     },
     "execution_count": 4,
     "metadata": {},
     "output_type": "execute_result"
    }
   ],
   "source": [
    "df.shape"
   ]
  },
  {
   "cell_type": "code",
   "execution_count": 5,
   "id": "6b1bc392",
   "metadata": {
    "execution": {
     "iopub.execute_input": "2022-07-06T09:05:32.979956Z",
     "iopub.status.busy": "2022-07-06T09:05:32.979596Z",
     "iopub.status.idle": "2022-07-06T09:05:33.323209Z",
     "shell.execute_reply": "2022-07-06T09:05:33.322173Z"
    },
    "id": "scSZZu9npz2d",
    "outputId": "33b8023e-33fd-4c73-b3c5-868a78f0e2d5",
    "papermill": {
     "duration": 0.355595,
     "end_time": "2022-07-06T09:05:33.325749",
     "exception": false,
     "start_time": "2022-07-06T09:05:32.970154",
     "status": "completed"
    },
    "tags": []
   },
   "outputs": [
    {
     "data": {
      "image/png": "[encoded data removed]",
      "text/plain": [
       "<Figure size 432x288 with 2 Axes>"
      ]
     },
     "metadata": {
      "needs_background": "light"
     },
     "output_type": "display_data"
    }
   ],
   "source": [
    "sns.heatmap(df.corr(), annot = True)\n",
    "plt.show()"
   ]
  },
  {
   "cell_type": "code",
   "execution_count": 6,
   "id": "972dd3a3",
   "metadata": {
    "execution": {
     "iopub.execute_input": "2022-07-06T09:05:33.344690Z",
     "iopub.status.busy": "2022-07-06T09:05:33.344290Z",
     "iopub.status.idle": "2022-07-06T09:05:33.366575Z",
     "shell.execute_reply": "2022-07-06T09:05:33.365430Z"
    },
    "id": "JW8hh5vep4uc",
    "outputId": "5a3bb49a-08a8-4b86-bea5-a392eeb9bf29",
    "papermill": {
     "duration": 0.034556,
     "end_time": "2022-07-06T09:05:33.368693",
     "exception": false,
     "start_time": "2022-07-06T09:05:33.334137",
     "status": "completed"
    },
    "tags": []
   },
   "outputs": [
    {
     "data": {
      "text/html": [
       "<div>\n",
       "<style scoped>\n",
       "    .dataframe tbody tr th:only-of-type {\n",
       "        vertical-align: middle;\n",
       "    }\n",
       "\n",
       "    .dataframe tbody tr th {\n",
       "        vertical-align: top;\n",
       "    }\n",
       "\n",
       "    .dataframe thead th {\n",
       "        text-align: right;\n",
       "    }\n",
       "</style>\n",
       "<table border=\"1\" class=\"dataframe\">\n",
       "  <thead>\n",
       "    <tr style=\"text-align: right;\">\n",
       "      <th></th>\n",
       "      <th>SepalLengthCm</th>\n",
       "      <th>SepalWidthCm</th>\n",
       "      <th>PetalLengthCm</th>\n",
       "      <th>PetalWidthCm</th>\n",
       "      <th>Species</th>\n",
       "    </tr>\n",
       "  </thead>\n",
       "  <tbody>\n",
       "    <tr>\n",
       "      <th>0</th>\n",
       "      <td>5.1</td>\n",
       "      <td>3.5</td>\n",
       "      <td>1.4</td>\n",
       "      <td>0.2</td>\n",
       "      <td>Iris-setosa</td>\n",
       "    </tr>\n",
       "    <tr>\n",
       "      <th>1</th>\n",
       "      <td>4.9</td>\n",
       "      <td>3.0</td>\n",
       "      <td>1.4</td>\n",
       "      <td>0.2</td>\n",
       "      <td>Iris-setosa</td>\n",
       "    </tr>\n",
       "    <tr>\n",
       "      <th>2</th>\n",
       "      <td>4.7</td>\n",
       "      <td>3.2</td>\n",
       "      <td>1.3</td>\n",
       "      <td>0.2</td>\n",
       "      <td>Iris-setosa</td>\n",
       "    </tr>\n",
       "    <tr>\n",
       "      <th>3</th>\n",
       "      <td>4.6</td>\n",
       "      <td>3.1</td>\n",
       "      <td>1.5</td>\n",
       "      <td>0.2</td>\n",
       "      <td>Iris-setosa</td>\n",
       "    </tr>\n",
       "    <tr>\n",
       "      <th>4</th>\n",
       "      <td>5.0</td>\n",
       "      <td>3.6</td>\n",
       "      <td>1.4</td>\n",
       "      <td>0.2</td>\n",
       "      <td>Iris-setosa</td>\n",
       "    </tr>\n",
       "  </tbody>\n",
       "</table>\n",
       "</div>"
      ],
      "text/plain": [
       "   SepalLengthCm  SepalWidthCm  PetalLengthCm  PetalWidthCm      Species\n",
       "0            5.1           3.5            1.4           0.2  Iris-setosa\n",
       "1            4.9           3.0            1.4           0.2  Iris-setosa\n",
       "2            4.7           3.2            1.3           0.2  Iris-setosa\n",
       "3            4.6           3.1            1.5           0.2  Iris-setosa\n",
       "4            5.0           3.6            1.4           0.2  Iris-setosa"
      ]
     },
     "execution_count": 6,
     "metadata": {},
     "output_type": "execute_result"
    }
   ],
   "source": [
    "df.drop(['Id'], axis=1, inplace=True)\n",
    "df.head()"
   ]
  },
  {
   "cell_type": "code",
   "execution_count": 7,
   "id": "beab6475",
   "metadata": {
    "execution": {
     "iopub.execute_input": "2022-07-06T09:05:33.387715Z",
     "iopub.status.busy": "2022-07-06T09:05:33.387340Z",
     "iopub.status.idle": "2022-07-06T09:05:33.396347Z",
     "shell.execute_reply": "2022-07-06T09:05:33.395566Z"
    },
    "id": "dSzgG07CqEA_",
    "outputId": "b5b5edff-2716-41af-e338-db165ae3afe6",
    "papermill": {
     "duration": 0.021097,
     "end_time": "2022-07-06T09:05:33.398438",
     "exception": false,
     "start_time": "2022-07-06T09:05:33.377341",
     "status": "completed"
    },
    "tags": []
   },
   "outputs": [
    {
     "data": {
      "text/plain": [
       "array(['Iris-setosa', 'Iris-versicolor', 'Iris-virginica'], dtype=object)"
      ]
     },
     "execution_count": 7,
     "metadata": {},
     "output_type": "execute_result"
    }
   ],
   "source": [
    "df['Species'].unique()"
   ]
  },
  {
   "cell_type": "code",
   "execution_count": 8,
   "id": "a1311965",
   "metadata": {
    "execution": {
     "iopub.execute_input": "2022-07-06T09:05:33.418879Z",
     "iopub.status.busy": "2022-07-06T09:05:33.418018Z",
     "iopub.status.idle": "2022-07-06T09:05:33.437160Z",
     "shell.execute_reply": "2022-07-06T09:05:33.436445Z"
    },
    "id": "EYMQlHE6qKzQ",
    "outputId": "0a8aae0d-2be4-41be-f32d-cadb0702d5b7",
    "papermill": {
     "duration": 0.03321,
     "end_time": "2022-07-06T09:05:33.440762",
     "exception": false,
     "start_time": "2022-07-06T09:05:33.407552",
     "status": "completed"
    },
    "tags": []
   },
   "outputs": [
    {
     "name": "stdout",
     "output_type": "stream",
     "text": [
      "<class 'pandas.core.frame.DataFrame'>\n",
      "RangeIndex: 150 entries, 0 to 149\n",
      "Data columns (total 5 columns):\n",
      " #   Column         Non-Null Count  Dtype  \n",
      "---  ------         --------------  -----  \n",
      " 0   SepalLengthCm  150 non-null    float64\n",
      " 1   SepalWidthCm   150 non-null    float64\n",
      " 2   PetalLengthCm  150 non-null    float64\n",
      " 3   PetalWidthCm   150 non-null    float64\n",
      " 4   Species        150 non-null    object \n",
      "dtypes: float64(4), object(1)\n",
      "memory usage: 6.0+ KB\n"
     ]
    }
   ],
   "source": [
    "df.info()"
   ]
  },
  {
   "cell_type": "code",
   "execution_count": 9,
   "id": "9aed030a",
   "metadata": {
    "execution": {
     "iopub.execute_input": "2022-07-06T09:05:33.461256Z",
     "iopub.status.busy": "2022-07-06T09:05:33.460683Z",
     "iopub.status.idle": "2022-07-06T09:05:33.464776Z",
     "shell.execute_reply": "2022-07-06T09:05:33.463941Z"
    },
    "id": "dDu0aSMTqTRn",
    "papermill": {
     "duration": 0.01618,
     "end_time": "2022-07-06T09:05:33.466722",
     "exception": false,
     "start_time": "2022-07-06T09:05:33.450542",
     "status": "completed"
    },
    "tags": []
   },
   "outputs": [],
   "source": [
    "X = df\n",
    "y = df['Species']"
   ]
  },
  {
   "cell_type": "code",
   "execution_count": 10,
   "id": "1c4ec808",
   "metadata": {
    "execution": {
     "iopub.execute_input": "2022-07-06T09:05:33.486481Z",
     "iopub.status.busy": "2022-07-06T09:05:33.485881Z",
     "iopub.status.idle": "2022-07-06T09:05:33.654086Z",
     "shell.execute_reply": "2022-07-06T09:05:33.652851Z"
    },
    "id": "N7Yu1LJ8qWq6",
    "papermill": {
     "duration": 0.181197,
     "end_time": "2022-07-06T09:05:33.656773",
     "exception": false,
     "start_time": "2022-07-06T09:05:33.475576",
     "status": "completed"
    },
    "tags": []
   },
   "outputs": [],
   "source": [
    "from sklearn.preprocessing import LabelEncoder\n",
    "le = LabelEncoder()\n",
    "X['Species'] = le.fit_transform(X['Species'])\n",
    "y = le.transform(y)"
   ]
  },
  {
   "cell_type": "code",
   "execution_count": 11,
   "id": "d4eb98d8",
   "metadata": {
    "execution": {
     "iopub.execute_input": "2022-07-06T09:05:33.676655Z",
     "iopub.status.busy": "2022-07-06T09:05:33.676134Z",
     "iopub.status.idle": "2022-07-06T09:05:33.690255Z",
     "shell.execute_reply": "2022-07-06T09:05:33.688473Z"
    },
    "id": "TCr_UHlcqaqh",
    "outputId": "df227cf1-c3a2-4a2b-b64c-4b1113a862d0",
    "papermill": {
     "duration": 0.026858,
     "end_time": "2022-07-06T09:05:33.692590",
     "exception": false,
     "start_time": "2022-07-06T09:05:33.665732",
     "status": "completed"
    },
    "tags": []
   },
   "outputs": [
    {
     "name": "stdout",
     "output_type": "stream",
     "text": [
      "<class 'pandas.core.frame.DataFrame'>\n",
      "RangeIndex: 150 entries, 0 to 149\n",
      "Data columns (total 5 columns):\n",
      " #   Column         Non-Null Count  Dtype  \n",
      "---  ------         --------------  -----  \n",
      " 0   SepalLengthCm  150 non-null    float64\n",
      " 1   SepalWidthCm   150 non-null    float64\n",
      " 2   PetalLengthCm  150 non-null    float64\n",
      " 3   PetalWidthCm   150 non-null    float64\n",
      " 4   Species        150 non-null    int64  \n",
      "dtypes: float64(4), int64(1)\n",
      "memory usage: 6.0 KB\n"
     ]
    }
   ],
   "source": [
    "X.info()"
   ]
  },
  {
   "cell_type": "code",
   "execution_count": 12,
   "id": "4babb43a",
   "metadata": {
    "execution": {
     "iopub.execute_input": "2022-07-06T09:05:33.712582Z",
     "iopub.status.busy": "2022-07-06T09:05:33.711957Z",
     "iopub.status.idle": "2022-07-06T09:05:33.725359Z",
     "shell.execute_reply": "2022-07-06T09:05:33.724201Z"
    },
    "id": "tzCXTnAoqjd8",
    "outputId": "e3af7575-914f-4bfe-d85c-bbb96c5f0609",
    "papermill": {
     "duration": 0.026046,
     "end_time": "2022-07-06T09:05:33.727586",
     "exception": false,
     "start_time": "2022-07-06T09:05:33.701540",
     "status": "completed"
    },
    "tags": []
   },
   "outputs": [
    {
     "data": {
      "text/html": [
       "<div>\n",
       "<style scoped>\n",
       "    .dataframe tbody tr th:only-of-type {\n",
       "        vertical-align: middle;\n",
       "    }\n",
       "\n",
       "    .dataframe tbody tr th {\n",
       "        vertical-align: top;\n",
       "    }\n",
       "\n",
       "    .dataframe thead th {\n",
       "        text-align: right;\n",
       "    }\n",
       "</style>\n",
       "<table border=\"1\" class=\"dataframe\">\n",
       "  <thead>\n",
       "    <tr style=\"text-align: right;\">\n",
       "      <th></th>\n",
       "      <th>SepalLengthCm</th>\n",
       "      <th>SepalWidthCm</th>\n",
       "      <th>PetalLengthCm</th>\n",
       "      <th>PetalWidthCm</th>\n",
       "      <th>Species</th>\n",
       "    </tr>\n",
       "  </thead>\n",
       "  <tbody>\n",
       "    <tr>\n",
       "      <th>0</th>\n",
       "      <td>5.1</td>\n",
       "      <td>3.5</td>\n",
       "      <td>1.4</td>\n",
       "      <td>0.2</td>\n",
       "      <td>0</td>\n",
       "    </tr>\n",
       "    <tr>\n",
       "      <th>1</th>\n",
       "      <td>4.9</td>\n",
       "      <td>3.0</td>\n",
       "      <td>1.4</td>\n",
       "      <td>0.2</td>\n",
       "      <td>0</td>\n",
       "    </tr>\n",
       "    <tr>\n",
       "      <th>2</th>\n",
       "      <td>4.7</td>\n",
       "      <td>3.2</td>\n",
       "      <td>1.3</td>\n",
       "      <td>0.2</td>\n",
       "      <td>0</td>\n",
       "    </tr>\n",
       "    <tr>\n",
       "      <th>3</th>\n",
       "      <td>4.6</td>\n",
       "      <td>3.1</td>\n",
       "      <td>1.5</td>\n",
       "      <td>0.2</td>\n",
       "      <td>0</td>\n",
       "    </tr>\n",
       "    <tr>\n",
       "      <th>4</th>\n",
       "      <td>5.0</td>\n",
       "      <td>3.6</td>\n",
       "      <td>1.4</td>\n",
       "      <td>0.2</td>\n",
       "      <td>0</td>\n",
       "    </tr>\n",
       "  </tbody>\n",
       "</table>\n",
       "</div>"
      ],
      "text/plain": [
       "   SepalLengthCm  SepalWidthCm  PetalLengthCm  PetalWidthCm  Species\n",
       "0            5.1           3.5            1.4           0.2        0\n",
       "1            4.9           3.0            1.4           0.2        0\n",
       "2            4.7           3.2            1.3           0.2        0\n",
       "3            4.6           3.1            1.5           0.2        0\n",
       "4            5.0           3.6            1.4           0.2        0"
      ]
     },
     "execution_count": 12,
     "metadata": {},
     "output_type": "execute_result"
    }
   ],
   "source": [
    "X.head()"
   ]
  },
  {
   "cell_type": "code",
   "execution_count": 13,
   "id": "6f18097c",
   "metadata": {
    "execution": {
     "iopub.execute_input": "2022-07-06T09:05:33.748037Z",
     "iopub.status.busy": "2022-07-06T09:05:33.747373Z",
     "iopub.status.idle": "2022-07-06T09:05:33.760996Z",
     "shell.execute_reply": "2022-07-06T09:05:33.759826Z"
    },
    "id": "USydOO3vqoJI",
    "outputId": "c63406e8-d07d-4912-956a-11408678656c",
    "papermill": {
     "duration": 0.02643,
     "end_time": "2022-07-06T09:05:33.763195",
     "exception": false,
     "start_time": "2022-07-06T09:05:33.736765",
     "status": "completed"
    },
    "tags": []
   },
   "outputs": [
    {
     "data": {
      "text/html": [
       "<div>\n",
       "<style scoped>\n",
       "    .dataframe tbody tr th:only-of-type {\n",
       "        vertical-align: middle;\n",
       "    }\n",
       "\n",
       "    .dataframe tbody tr th {\n",
       "        vertical-align: top;\n",
       "    }\n",
       "\n",
       "    .dataframe thead th {\n",
       "        text-align: right;\n",
       "    }\n",
       "</style>\n",
       "<table border=\"1\" class=\"dataframe\">\n",
       "  <thead>\n",
       "    <tr style=\"text-align: right;\">\n",
       "      <th></th>\n",
       "      <th>SepalLengthCm</th>\n",
       "      <th>SepalWidthCm</th>\n",
       "      <th>PetalLengthCm</th>\n",
       "      <th>PetalWidthCm</th>\n",
       "      <th>Species</th>\n",
       "    </tr>\n",
       "  </thead>\n",
       "  <tbody>\n",
       "    <tr>\n",
       "      <th>145</th>\n",
       "      <td>6.7</td>\n",
       "      <td>3.0</td>\n",
       "      <td>5.2</td>\n",
       "      <td>2.3</td>\n",
       "      <td>2</td>\n",
       "    </tr>\n",
       "    <tr>\n",
       "      <th>146</th>\n",
       "      <td>6.3</td>\n",
       "      <td>2.5</td>\n",
       "      <td>5.0</td>\n",
       "      <td>1.9</td>\n",
       "      <td>2</td>\n",
       "    </tr>\n",
       "    <tr>\n",
       "      <th>147</th>\n",
       "      <td>6.5</td>\n",
       "      <td>3.0</td>\n",
       "      <td>5.2</td>\n",
       "      <td>2.0</td>\n",
       "      <td>2</td>\n",
       "    </tr>\n",
       "    <tr>\n",
       "      <th>148</th>\n",
       "      <td>6.2</td>\n",
       "      <td>3.4</td>\n",
       "      <td>5.4</td>\n",
       "      <td>2.3</td>\n",
       "      <td>2</td>\n",
       "    </tr>\n",
       "    <tr>\n",
       "      <th>149</th>\n",
       "      <td>5.9</td>\n",
       "      <td>3.0</td>\n",
       "      <td>5.1</td>\n",
       "      <td>1.8</td>\n",
       "      <td>2</td>\n",
       "    </tr>\n",
       "  </tbody>\n",
       "</table>\n",
       "</div>"
      ],
      "text/plain": [
       "     SepalLengthCm  SepalWidthCm  PetalLengthCm  PetalWidthCm  Species\n",
       "145            6.7           3.0            5.2           2.3        2\n",
       "146            6.3           2.5            5.0           1.9        2\n",
       "147            6.5           3.0            5.2           2.0        2\n",
       "148            6.2           3.4            5.4           2.3        2\n",
       "149            5.9           3.0            5.1           1.8        2"
      ]
     },
     "execution_count": 13,
     "metadata": {},
     "output_type": "execute_result"
    }
   ],
   "source": [
    "X.tail()"
   ]
  },
  {
   "cell_type": "code",
   "execution_count": 14,
   "id": "2ad35f01",
   "metadata": {
    "execution": {
     "iopub.execute_input": "2022-07-06T09:05:33.784420Z",
     "iopub.status.busy": "2022-07-06T09:05:33.783791Z",
     "iopub.status.idle": "2022-07-06T09:05:33.788448Z",
     "shell.execute_reply": "2022-07-06T09:05:33.787707Z"
    },
    "id": "7zC6AHV_qqAK",
    "papermill": {
     "duration": 0.018,
     "end_time": "2022-07-06T09:05:33.790541",
     "exception": false,
     "start_time": "2022-07-06T09:05:33.772541",
     "status": "completed"
    },
    "tags": []
   },
   "outputs": [],
   "source": [
    "cols = X.columns"
   ]
  },
  {
   "cell_type": "code",
   "execution_count": 15,
   "id": "6a17c5f4",
   "metadata": {
    "execution": {
     "iopub.execute_input": "2022-07-06T09:05:33.811299Z",
     "iopub.status.busy": "2022-07-06T09:05:33.810577Z",
     "iopub.status.idle": "2022-07-06T09:05:33.819773Z",
     "shell.execute_reply": "2022-07-06T09:05:33.818735Z"
    },
    "id": "LQpI-Dteqtra",
    "papermill": {
     "duration": 0.022466,
     "end_time": "2022-07-06T09:05:33.822239",
     "exception": false,
     "start_time": "2022-07-06T09:05:33.799773",
     "status": "completed"
    },
    "tags": []
   },
   "outputs": [],
   "source": [
    "from sklearn.preprocessing import MinMaxScaler\n",
    "ms = MinMaxScaler()\n",
    "X = ms.fit_transform(X)"
   ]
  },
  {
   "cell_type": "code",
   "execution_count": 16,
   "id": "895091c2",
   "metadata": {
    "execution": {
     "iopub.execute_input": "2022-07-06T09:05:33.842875Z",
     "iopub.status.busy": "2022-07-06T09:05:33.842506Z",
     "iopub.status.idle": "2022-07-06T09:05:33.858452Z",
     "shell.execute_reply": "2022-07-06T09:05:33.857310Z"
    },
    "id": "FQoRSRbzqxA6",
    "outputId": "8a9f93f7-d7aa-4231-8ed5-2988f8f6e214",
    "papermill": {
     "duration": 0.029036,
     "end_time": "2022-07-06T09:05:33.860767",
     "exception": false,
     "start_time": "2022-07-06T09:05:33.831731",
     "status": "completed"
    },
    "tags": []
   },
   "outputs": [
    {
     "data": {
      "text/html": [
       "<div>\n",
       "<style scoped>\n",
       "    .dataframe tbody tr th:only-of-type {\n",
       "        vertical-align: middle;\n",
       "    }\n",
       "\n",
       "    .dataframe tbody tr th {\n",
       "        vertical-align: top;\n",
       "    }\n",
       "\n",
       "    .dataframe thead tr th {\n",
       "        text-align: left;\n",
       "    }\n",
       "</style>\n",
       "<table border=\"1\" class=\"dataframe\">\n",
       "  <thead>\n",
       "    <tr>\n",
       "      <th></th>\n",
       "      <th>SepalLengthCm</th>\n",
       "      <th>SepalWidthCm</th>\n",
       "      <th>PetalLengthCm</th>\n",
       "      <th>PetalWidthCm</th>\n",
       "      <th>Species</th>\n",
       "    </tr>\n",
       "  </thead>\n",
       "  <tbody>\n",
       "    <tr>\n",
       "      <th>0</th>\n",
       "      <td>0.222222</td>\n",
       "      <td>0.625000</td>\n",
       "      <td>0.067797</td>\n",
       "      <td>0.041667</td>\n",
       "      <td>0.0</td>\n",
       "    </tr>\n",
       "    <tr>\n",
       "      <th>1</th>\n",
       "      <td>0.166667</td>\n",
       "      <td>0.416667</td>\n",
       "      <td>0.067797</td>\n",
       "      <td>0.041667</td>\n",
       "      <td>0.0</td>\n",
       "    </tr>\n",
       "    <tr>\n",
       "      <th>2</th>\n",
       "      <td>0.111111</td>\n",
       "      <td>0.500000</td>\n",
       "      <td>0.050847</td>\n",
       "      <td>0.041667</td>\n",
       "      <td>0.0</td>\n",
       "    </tr>\n",
       "    <tr>\n",
       "      <th>3</th>\n",
       "      <td>0.083333</td>\n",
       "      <td>0.458333</td>\n",
       "      <td>0.084746</td>\n",
       "      <td>0.041667</td>\n",
       "      <td>0.0</td>\n",
       "    </tr>\n",
       "    <tr>\n",
       "      <th>4</th>\n",
       "      <td>0.194444</td>\n",
       "      <td>0.666667</td>\n",
       "      <td>0.067797</td>\n",
       "      <td>0.041667</td>\n",
       "      <td>0.0</td>\n",
       "    </tr>\n",
       "  </tbody>\n",
       "</table>\n",
       "</div>"
      ],
      "text/plain": [
       "  SepalLengthCm SepalWidthCm PetalLengthCm PetalWidthCm Species\n",
       "0      0.222222     0.625000      0.067797     0.041667     0.0\n",
       "1      0.166667     0.416667      0.067797     0.041667     0.0\n",
       "2      0.111111     0.500000      0.050847     0.041667     0.0\n",
       "3      0.083333     0.458333      0.084746     0.041667     0.0\n",
       "4      0.194444     0.666667      0.067797     0.041667     0.0"
      ]
     },
     "execution_count": 16,
     "metadata": {},
     "output_type": "execute_result"
    }
   ],
   "source": [
    "X = pd.DataFrame(X, columns=[cols])\n",
    "X.head()"
   ]
  },
  {
   "cell_type": "code",
   "execution_count": 17,
   "id": "2ce6c24c",
   "metadata": {
    "execution": {
     "iopub.execute_input": "2022-07-06T09:05:33.882563Z",
     "iopub.status.busy": "2022-07-06T09:05:33.881806Z",
     "iopub.status.idle": "2022-07-06T09:05:34.251085Z",
     "shell.execute_reply": "2022-07-06T09:05:34.250063Z"
    },
    "id": "omy3NLeRq4LA",
    "outputId": "b8fdd510-653b-4f26-b34c-81f8907bb16b",
    "papermill": {
     "duration": 0.383135,
     "end_time": "2022-07-06T09:05:34.253903",
     "exception": false,
     "start_time": "2022-07-06T09:05:33.870768",
     "status": "completed"
    },
    "tags": []
   },
   "outputs": [
    {
     "name": "stderr",
     "output_type": "stream",
     "text": [
      "/opt/conda/lib/python3.7/site-packages/sklearn/utils/validation.py:1692: FutureWarning: Feature names only support names that are all strings. Got feature names with dtypes: ['tuple']. An error will be raised in 1.2.\n",
      "  FutureWarning,\n"
     ]
    },
    {
     "data": {
      "text/plain": [
       "KMeans(n_clusters=2, random_state=0)"
      ]
     },
     "execution_count": 17,
     "metadata": {},
     "output_type": "execute_result"
    }
   ],
   "source": [
    "from sklearn.cluster import KMeans\n",
    "kmeans = KMeans(n_clusters=2, random_state=0) \n",
    "kmeans.fit(X)"
   ]
  },
  {
   "cell_type": "code",
   "execution_count": 18,
   "id": "1fd01558",
   "metadata": {
    "execution": {
     "iopub.execute_input": "2022-07-06T09:05:34.277915Z",
     "iopub.status.busy": "2022-07-06T09:05:34.276768Z",
     "iopub.status.idle": "2022-07-06T09:05:34.284212Z",
     "shell.execute_reply": "2022-07-06T09:05:34.283301Z"
    },
    "id": "FPduG9-Cq8CA",
    "outputId": "c8314a5b-dccb-4aaf-9e98-7bd2f69c1e7c",
    "papermill": {
     "duration": 0.02142,
     "end_time": "2022-07-06T09:05:34.286638",
     "exception": false,
     "start_time": "2022-07-06T09:05:34.265218",
     "status": "completed"
    },
    "tags": []
   },
   "outputs": [
    {
     "data": {
      "text/plain": [
       "array([[0.19611111, 0.59083333, 0.07864407, 0.06      , 0.        ],\n",
       "       [0.545     , 0.36333333, 0.6620339 , 0.65666667, 0.75      ]])"
      ]
     },
     "execution_count": 18,
     "metadata": {},
     "output_type": "execute_result"
    }
   ],
   "source": [
    "kmeans.cluster_centers_"
   ]
  },
  {
   "cell_type": "code",
   "execution_count": 19,
   "id": "eae37861",
   "metadata": {
    "execution": {
     "iopub.execute_input": "2022-07-06T09:05:34.308250Z",
     "iopub.status.busy": "2022-07-06T09:05:34.307869Z",
     "iopub.status.idle": "2022-07-06T09:05:34.314873Z",
     "shell.execute_reply": "2022-07-06T09:05:34.313843Z"
    },
    "id": "l5H1o4Nwq-tr",
    "outputId": "2f51b586-baf1-4ef5-e8d6-981ba0e175db",
    "papermill": {
     "duration": 0.020628,
     "end_time": "2022-07-06T09:05:34.317161",
     "exception": false,
     "start_time": "2022-07-06T09:05:34.296533",
     "status": "completed"
    },
    "tags": []
   },
   "outputs": [
    {
     "data": {
      "text/plain": [
       "18.393688281579724"
      ]
     },
     "execution_count": 19,
     "metadata": {},
     "output_type": "execute_result"
    }
   ],
   "source": [
    "kmeans.inertia_"
   ]
  },
  {
   "cell_type": "code",
   "execution_count": 20,
   "id": "e74728ec",
   "metadata": {
    "execution": {
     "iopub.execute_input": "2022-07-06T09:05:34.340007Z",
     "iopub.status.busy": "2022-07-06T09:05:34.338928Z",
     "iopub.status.idle": "2022-07-06T09:05:34.345378Z",
     "shell.execute_reply": "2022-07-06T09:05:34.344467Z"
    },
    "id": "0TegTvL_rCBV",
    "outputId": "8d3d4868-87f1-41d8-e90b-7a835e8d7d91",
    "papermill": {
     "duration": 0.02015,
     "end_time": "2022-07-06T09:05:34.347612",
     "exception": false,
     "start_time": "2022-07-06T09:05:34.327462",
     "status": "completed"
    },
    "tags": []
   },
   "outputs": [
    {
     "name": "stdout",
     "output_type": "stream",
     "text": [
      "Result: 100 out of 150 samples were correctly labeled.\n"
     ]
    }
   ],
   "source": [
    "labels = kmeans.labels_\n",
    "# check how many of the samples were correctly labeled\n",
    "correct_labels = sum(y == labels)\n",
    "print(\"Result: %d out of %d samples were correctly labeled.\" % (correct_labels, y.size))"
   ]
  },
  {
   "cell_type": "code",
   "execution_count": 21,
   "id": "2c4adeab",
   "metadata": {
    "execution": {
     "iopub.execute_input": "2022-07-06T09:05:34.369461Z",
     "iopub.status.busy": "2022-07-06T09:05:34.369063Z",
     "iopub.status.idle": "2022-07-06T09:05:34.374075Z",
     "shell.execute_reply": "2022-07-06T09:05:34.373236Z"
    },
    "id": "F2D4hsuLrGH5",
    "outputId": "915d5009-2c3b-4c42-a26e-f5a0e34f55a7",
    "papermill": {
     "duration": 0.018434,
     "end_time": "2022-07-06T09:05:34.376106",
     "exception": false,
     "start_time": "2022-07-06T09:05:34.357672",
     "status": "completed"
    },
    "tags": []
   },
   "outputs": [
    {
     "name": "stdout",
     "output_type": "stream",
     "text": [
      "Accuracy score: 0.67\n"
     ]
    }
   ],
   "source": [
    "print('Accuracy score: {0:0.2f}'. format(correct_labels/float(y.size)))"
   ]
  },
  {
   "cell_type": "code",
   "execution_count": 22,
   "id": "27f7d431",
   "metadata": {
    "execution": {
     "iopub.execute_input": "2022-07-06T09:05:34.397885Z",
     "iopub.status.busy": "2022-07-06T09:05:34.397538Z",
     "iopub.status.idle": "2022-07-06T09:05:35.044866Z",
     "shell.execute_reply": "2022-07-06T09:05:35.043631Z"
    },
    "id": "povACTlArJLZ",
    "outputId": "e023ca8f-d656-4663-cdb8-22ac27e8d479",
    "papermill": {
     "duration": 0.660979,
     "end_time": "2022-07-06T09:05:35.047215",
     "exception": false,
     "start_time": "2022-07-06T09:05:34.386236",
     "status": "completed"
    },
    "tags": []
   },
   "outputs": [
    {
     "name": "stderr",
     "output_type": "stream",
     "text": [
      "/opt/conda/lib/python3.7/site-packages/sklearn/utils/validation.py:1692: FutureWarning: Feature names only support names that are all strings. Got feature names with dtypes: ['tuple']. An error will be raised in 1.2.\n",
      "  FutureWarning,\n",
      "/opt/conda/lib/python3.7/site-packages/sklearn/utils/validation.py:1692: FutureWarning: Feature names only support names that are all strings. Got feature names with dtypes: ['tuple']. An error will be raised in 1.2.\n",
      "  FutureWarning,\n",
      "/opt/conda/lib/python3.7/site-packages/sklearn/utils/validation.py:1692: FutureWarning: Feature names only support names that are all strings. Got feature names with dtypes: ['tuple']. An error will be raised in 1.2.\n",
      "  FutureWarning,\n",
      "/opt/conda/lib/python3.7/site-packages/sklearn/utils/validation.py:1692: FutureWarning: Feature names only support names that are all strings. Got feature names with dtypes: ['tuple']. An error will be raised in 1.2.\n",
      "  FutureWarning,\n",
      "/opt/conda/lib/python3.7/site-packages/sklearn/utils/validation.py:1692: FutureWarning: Feature names only support names that are all strings. Got feature names with dtypes: ['tuple']. An error will be raised in 1.2.\n",
      "  FutureWarning,\n",
      "/opt/conda/lib/python3.7/site-packages/sklearn/utils/validation.py:1692: FutureWarning: Feature names only support names that are all strings. Got feature names with dtypes: ['tuple']. An error will be raised in 1.2.\n",
      "  FutureWarning,\n",
      "/opt/conda/lib/python3.7/site-packages/sklearn/utils/validation.py:1692: FutureWarning: Feature names only support names that are all strings. Got feature names with dtypes: ['tuple']. An error will be raised in 1.2.\n",
      "  FutureWarning,\n",
      "/opt/conda/lib/python3.7/site-packages/sklearn/utils/validation.py:1692: FutureWarning: Feature names only support names that are all strings. Got feature names with dtypes: ['tuple']. An error will be raised in 1.2.\n",
      "  FutureWarning,\n",
      "/opt/conda/lib/python3.7/site-packages/sklearn/utils/validation.py:1692: FutureWarning: Feature names only support names that are all strings. Got feature names with dtypes: ['tuple']. An error will be raised in 1.2.\n",
      "  FutureWarning,\n",
      "/opt/conda/lib/python3.7/site-packages/sklearn/utils/validation.py:1692: FutureWarning: Feature names only support names that are all strings. Got feature names with dtypes: ['tuple']. An error will be raised in 1.2.\n",
      "  FutureWarning,\n"
     ]
    },
    {
     "data": {
      "image/png": "[encoded data removed]",
      "text/plain": [
       "<Figure size 432x288 with 1 Axes>"
      ]
     },
     "metadata": {
      "needs_background": "light"
     },
     "output_type": "display_data"
    }
   ],
   "source": [
    "from sklearn.cluster import KMeans\n",
    "cs = []\n",
    "for i in range(1, 11):\n",
    "    kmeans = KMeans(n_clusters = i, init = 'k-means++', max_iter = 300, n_init = 10, random_state = 0)\n",
    "    kmeans.fit(X)\n",
    "    cs.append(kmeans.inertia_)\n",
    "plt.plot(range(1, 11), cs)\n",
    "plt.title('The Elbow Method')\n",
    "plt.xlabel('Number of clusters')\n",
    "plt.ylabel('CS')\n",
    "plt.show()"
   ]
  },
  {
   "cell_type": "code",
   "execution_count": 23,
   "id": "0beca38a",
   "metadata": {
    "execution": {
     "iopub.execute_input": "2022-07-06T09:05:35.071270Z",
     "iopub.status.busy": "2022-07-06T09:05:35.070262Z",
     "iopub.status.idle": "2022-07-06T09:05:35.098429Z",
     "shell.execute_reply": "2022-07-06T09:05:35.096898Z"
    },
    "id": "bg-ST0h-rUAb",
    "outputId": "b251e215-a88e-4969-d9d0-cc56c6d31d17",
    "papermill": {
     "duration": 0.043698,
     "end_time": "2022-07-06T09:05:35.101646",
     "exception": false,
     "start_time": "2022-07-06T09:05:35.057948",
     "status": "completed"
    },
    "tags": []
   },
   "outputs": [
    {
     "name": "stdout",
     "output_type": "stream",
     "text": [
      "Result: 100 out of 150 samples were correctly labeled.\n",
      "Accuracy score: 0.67\n"
     ]
    },
    {
     "name": "stderr",
     "output_type": "stream",
     "text": [
      "/opt/conda/lib/python3.7/site-packages/sklearn/utils/validation.py:1692: FutureWarning: Feature names only support names that are all strings. Got feature names with dtypes: ['tuple']. An error will be raised in 1.2.\n",
      "  FutureWarning,\n"
     ]
    }
   ],
   "source": [
    "from sklearn.cluster import KMeans\n",
    "\n",
    "kmeans = KMeans(n_clusters=2,random_state=0)\n",
    "\n",
    "kmeans.fit(X)\n",
    "\n",
    "labels = kmeans.labels_\n",
    "\n",
    "# check how many of the samples were correctly labeled\n",
    "\n",
    "correct_labels = sum(y == labels)\n",
    "\n",
    "print(\"Result: %d out of %d samples were correctly labeled.\" % (correct_labels, y.size))\n",
    "\n",
    "print('Accuracy score: {0:0.2f}'. format(correct_labels/float(y.size)))"
   ]
  },
  {
   "cell_type": "code",
   "execution_count": 24,
   "id": "5238a0e9",
   "metadata": {
    "execution": {
     "iopub.execute_input": "2022-07-06T09:05:35.127073Z",
     "iopub.status.busy": "2022-07-06T09:05:35.126701Z",
     "iopub.status.idle": "2022-07-06T09:05:35.157247Z",
     "shell.execute_reply": "2022-07-06T09:05:35.155418Z"
    },
    "id": "o8NUBGb7r-sJ",
    "outputId": "91be5a2a-e636-4baa-f03f-a14e69bc4a76",
    "papermill": {
     "duration": 0.045352,
     "end_time": "2022-07-06T09:05:35.159844",
     "exception": false,
     "start_time": "2022-07-06T09:05:35.114492",
     "status": "completed"
    },
    "tags": []
   },
   "outputs": [
    {
     "name": "stdout",
     "output_type": "stream",
     "text": [
      "Result: 50 out of 150 samples were correctly labeled.\n",
      "Accuracy score: 0.33\n"
     ]
    },
    {
     "name": "stderr",
     "output_type": "stream",
     "text": [
      "/opt/conda/lib/python3.7/site-packages/sklearn/utils/validation.py:1692: FutureWarning: Feature names only support names that are all strings. Got feature names with dtypes: ['tuple']. An error will be raised in 1.2.\n",
      "  FutureWarning,\n"
     ]
    }
   ],
   "source": [
    "kmeans = KMeans(n_clusters=3, random_state=0)\n",
    "\n",
    "kmeans.fit(X)\n",
    "\n",
    "# check how many of the samples were correctly labeled\n",
    "labels = kmeans.labels_\n",
    "\n",
    "correct_labels = sum(y == labels)\n",
    "print(\"Result: %d out of %d samples were correctly labeled.\" % (correct_labels, y.size))\n",
    "print('Accuracy score: {0:0.2f}'. format(correct_labels/float(y.size)))"
   ]
  },
  {
   "cell_type": "code",
   "execution_count": 25,
   "id": "26d5878c",
   "metadata": {
    "execution": {
     "iopub.execute_input": "2022-07-06T09:05:35.185274Z",
     "iopub.status.busy": "2022-07-06T09:05:35.184886Z",
     "iopub.status.idle": "2022-07-06T09:05:35.223733Z",
     "shell.execute_reply": "2022-07-06T09:05:35.222129Z"
    },
    "id": "TEdG4BIosCvJ",
    "outputId": "4573cdb2-0d9c-434e-fe44-bd5b24c7ca93",
    "papermill": {
     "duration": 0.054125,
     "end_time": "2022-07-06T09:05:35.226340",
     "exception": false,
     "start_time": "2022-07-06T09:05:35.172215",
     "status": "completed"
    },
    "tags": []
   },
   "outputs": [
    {
     "name": "stdout",
     "output_type": "stream",
     "text": [
      "Result: 50 out of 150 samples were correctly labeled.\n",
      "Accuracy score: 0.33\n"
     ]
    },
    {
     "name": "stderr",
     "output_type": "stream",
     "text": [
      "/opt/conda/lib/python3.7/site-packages/sklearn/utils/validation.py:1692: FutureWarning: Feature names only support names that are all strings. Got feature names with dtypes: ['tuple']. An error will be raised in 1.2.\n",
      "  FutureWarning,\n"
     ]
    }
   ],
   "source": [
    "kmeans = KMeans(n_clusters=4, random_state=0)\n",
    "\n",
    "kmeans.fit(X)\n",
    "\n",
    "# check how many of the samples were correctly labeled\n",
    "labels = kmeans.labels_\n",
    "\n",
    "correct_labels = sum(y == labels)\n",
    "print(\"Result: %d out of %d samples were correctly labeled.\" % (correct_labels, y.size))\n",
    "print('Accuracy score: {0:0.2f}'. format(correct_labels/float(y.size)))"
   ]
  },
  {
   "cell_type": "markdown",
   "id": "cbc8fb88",
   "metadata": {
    "id": "thJhdYXhtbDU",
    "papermill": {
     "duration": 0.01086,
     "end_time": "2022-07-06T09:05:35.249645",
     "exception": false,
     "start_time": "2022-07-06T09:05:35.238785",
     "status": "completed"
    },
    "tags": []
   },
   "source": [
    "Kesimpulannya adalah kita menggunakan K-Means dengan Cluster =2"
   ]
  }
 ],
 "metadata": {
  "kernelspec": {
   "display_name": "Python 3",
   "language": "python",
   "name": "python3"
  },
  "language_info": {
   "codemirror_mode": {
    "name": "ipython",
    "version": 3
   },
   "file_extension": ".py",
   "mimetype": "text/x-python",
   "name": "python",
   "nbconvert_exporter": "python",
   "pygments_lexer": "ipython3",
   "version": "3.7.12"
  },
  "papermill": {
   "default_parameters": {},
   "duration": 14.938207,
   "end_time": "2022-07-06T09:05:36.082188",
   "environment_variables": {},
   "exception": null,
   "input_path": "__notebook__.ipynb",
   "output_path": "__notebook__.ipynb",
   "parameters": {},
   "start_time": "2022-07-06T09:05:21.143981",
   "version": "2.3.4"
  }
 },
 "nbformat": 4,
 "nbformat_minor": 5
}
